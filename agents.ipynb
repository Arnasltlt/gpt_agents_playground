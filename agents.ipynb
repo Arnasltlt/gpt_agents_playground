{
  "nbformat": 4,
  "nbformat_minor": 0,
  "metadata": {
    "colab": {
      "provenance": []
    },
    "kernelspec": {
      "name": "python3",
      "display_name": "Python 3"
    },
    "language_info": {
      "name": "python"
    }
  },
  "cells": [
    {
      "cell_type": "code",
      "execution_count": null,
      "metadata": {
        "id": "AhvVlc2ZWv4u"
      },
      "outputs": [],
      "source": [
        "!pip install openai"
      ]
    },
    {
      "cell_type": "code",
      "source": [
        "import openai\n",
        "\n",
        "openai.api_key = ''"
      ],
      "metadata": {
        "id": "nlY0U5TDah1b"
      },
      "execution_count": null,
      "outputs": []
    },
    {
      "cell_type": "code",
      "source": [
        "def gpt4(instruction,question):\n",
        "    completion = openai.ChatCompletion.create(\n",
        "      model=\"gpt-4\",\n",
        "      messages=[\n",
        "        {\"role\": \"system\", \"content\": f'{instruction}'},\n",
        "        {\"role\": \"user\", \"content\": f\"{question}\"},\n",
        "      ],temperature = 0,\n",
        "    )\n",
        "\n",
        "    return completion.choices[0].message.content"
      ],
      "metadata": {
        "id": "soOWAQkCYOl7"
      },
      "execution_count": 71,
      "outputs": []
    },
    {
      "cell_type": "code",
      "source": [
        "gpt4(\"DO\",\"it\")"
      ],
      "metadata": {
        "id": "G-MgJay0afA_"
      },
      "execution_count": null,
      "outputs": []
    },
    {
      "cell_type": "code",
      "source": [
        "instruction = \"You're helpful and you're lying\"\n",
        "question = input(\"What's your question?: \")"
      ],
      "metadata": {
        "id": "X3-859Edam_y"
      },
      "execution_count": null,
      "outputs": []
    },
    {
      "cell_type": "code",
      "source": [
        "gpt4(instruction,question)"
      ],
      "metadata": {
        "id": "MDzNQZEqbtj-"
      },
      "execution_count": null,
      "outputs": []
    },
    {
      "cell_type": "markdown",
      "source": [
        "# Lets make it think!"
      ],
      "metadata": {
        "id": "O2pZznxrcr2B"
      }
    },
    {
      "cell_type": "code",
      "source": [
        "### ADD, Subtract or Multiply?\n",
        "\n",
        "def add(a, b):\n",
        "     return a + b\n",
        "\n",
        "def subtract(a, b):\n",
        "    return a - b\n",
        "\n",
        "def multiply(a, b):\n",
        "    return a * b"
      ],
      "metadata": {
        "id": "7lyumMqPcwoI"
      },
      "execution_count": 77,
      "outputs": []
    },
    {
      "cell_type": "code",
      "source": [
        "instruction = 'Determine the appropriate category (\"add\", \"subtract\", \"multiply\") based on user input. Extract two numbers. Format the answer as: {\"category\":\"add\",\"inputs\":\"2,2\"}. Provide JSON only.'"
      ],
      "metadata": {
        "id": "uimRw8PPdpUH"
      },
      "execution_count": 78,
      "outputs": []
    },
    {
      "cell_type": "code",
      "source": [
        "question = input(\"What's your question?: \")"
      ],
      "metadata": {
        "id": "Bafj5oYSeOjs"
      },
      "execution_count": null,
      "outputs": []
    },
    {
      "cell_type": "code",
      "source": [
        "##Thinking...\n",
        "\n",
        "print('Thinking...')\n",
        "\n",
        "observation = gpt4(instruction,question)\n",
        "\n",
        "print(observation)\n"
      ],
      "metadata": {
        "id": "Xi9Ckq5-eV-r"
      },
      "execution_count": null,
      "outputs": []
    },
    {
      "cell_type": "code",
      "source": [
        "observation_lang = gpt4(\"summarise the following json in human words. It is your observation of a task that you will need to complete.\",observation)\n",
        "print(\"Observation:\",observation_lang)"
      ],
      "metadata": {
        "id": "ZtMRUH4QgDKO"
      },
      "execution_count": null,
      "outputs": []
    },
    {
      "cell_type": "code",
      "source": [
        "import json \n",
        "def run_operation(operation):\n",
        "    operation = json.loads(operation)\n",
        "    category = operation['category']\n",
        "    inputs = operation['inputs'].split(',')\n",
        "    a = int(inputs[0])\n",
        "    b = int(inputs[1])\n",
        "    print('trying to find a matching operation')\n",
        "    if category == 'add':\n",
        "        result = add(a, b)\n",
        "        print('found a matching operation: add')\n",
        "    elif category == 'subtract':\n",
        "        result = subtract(a, b)\n",
        "        print('found a matching operation: subtract')\n",
        "    elif category == 'multiply':\n",
        "        result = multiply(a, b)\n",
        "        print('found a matching operation: multiply')\n",
        "    else:\n",
        "        result = \"Invalid operation\"\n",
        "    return result"
      ],
      "metadata": {
        "id": "7hwEbITEeY7L"
      },
      "execution_count": 106,
      "outputs": []
    },
    {
      "cell_type": "code",
      "source": [
        "answer = run_operation(observation)\n",
        "print(\"Answer:\", answer)"
      ],
      "metadata": {
        "id": "rSj54BcNghT2"
      },
      "execution_count": null,
      "outputs": []
    },
    {
      "cell_type": "code",
      "source": [
        "gpt4(f\"You have found the answer to a customers question. Phrase it in a nice sentance.Question {question} Answer:{answer}\",'Whats the answer?')"
      ],
      "metadata": {
        "id": "gp_mhDO8g4dQ"
      },
      "execution_count": null,
      "outputs": []
    },
    {
      "cell_type": "code",
      "source": [
        "gpt4(f\"You have to make sure the all questions are already answered. Questions: {question} Answer:{answer}. Say either Yes or No and which question is not yet answered?\",'Are all questions answered? ')"
      ],
      "metadata": {
        "id": "A-9ZD-1-h9gd"
      },
      "execution_count": null,
      "outputs": []
    }
  ]
}
