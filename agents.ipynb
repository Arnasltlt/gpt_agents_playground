{
  "nbformat": 4,
  "nbformat_minor": 0,
  "metadata": {
    "colab": {
      "provenance": []
    },
    "kernelspec": {
      "name": "python3",
      "display_name": "Python 3"
    },
    "language_info": {
      "name": "python"
    }
  },
  "cells": [
    {
      "cell_type": "code",
      "execution_count": 14,
      "metadata": {
        "colab": {
          "base_uri": "https://localhost:8080/"
        },
        "id": "AhvVlc2ZWv4u",
        "outputId": "61e6abfd-fc6b-475a-b6f6-20a09b14f781"
      },
      "source": [
        "\n",
        "!pip install openai\n",
        "\n"
      ]
    },
    {
      "cell_type": "code",
      "source": [
        "import openai\n",
        "\n",
        "openai.api_key = ''"
      ],
      "metadata": {
        "id": "nlY0U5TDah1b"
      },
      "execution_count": null,
      "outputs": []
    },
    {
      "cell_type": "code",
      "source": [
        "def gpt4(instruction,question):\n",
        "    completion = openai.ChatCompletion.create(\n",
        "      model=\"gpt-4\",\n",
        "      messages=[\n",
        "        {\"role\": \"system\", \"content\": f'{instruction}'},\n",
        "        {\"role\": \"user\", \"content\": f\"{question}\"},\n",
        "      ],temperature = 0,\n",
        "    )\n",
        "\n",
        "    return completion.choices[0].message.content"
      ],
      "metadata": {
        "id": "soOWAQkCYOl7"
      },
      "execution_count": 71,
      "outputs": []
    },
    {
      "cell_type": "code",
      "source": [
        "gpt4(\"DO\",\"it\")"
      ],
      "metadata": {
        "colab": {
          "base_uri": "https://localhost:8080/",
          "height": 35
        },
        "id": "G-MgJay0afA_",
        "outputId": "668b31b9-6668-4252-c00d-869a15e75f05"
      },
      "execution_count": 72,
      "outputs": [
        {
          "output_type": "execute_result",
          "data": {
            "text/plain": [
              "\"I'm sorry, but I need more information to provide a helpful response. Please provide more context or details about your question or request.\""
            ],
            "application/vnd.google.colaboratory.intrinsic+json": {
              "type": "string"
            }
          },
          "metadata": {},
          "execution_count": 72
        }
      ]
    },
    {
      "cell_type": "code",
      "source": [
        "instruction = \"You're helpful and you're lying\"\n",
        "question = input(\"What's your question?: \")"
      ],
      "metadata": {
        "colab": {
          "base_uri": "https://localhost:8080/"
        },
        "id": "X3-859Edam_y",
        "outputId": "0688fb61-a5ff-45ee-b50f-c8ebbcb1961f"
      },
      "execution_count": 74,
      "outputs": [
        {
          "name": "stdout",
          "output_type": "stream",
          "text": [
            "What's your question?: who is santa?\n"
          ]
        }
      ]
    },
    {
      "cell_type": "code",
      "source": [
        "gpt4(instruction,question)"
      ],
      "metadata": {
        "colab": {
          "base_uri": "https://localhost:8080/",
          "height": 70
        },
        "id": "MDzNQZEqbtj-",
        "outputId": "bf5a8ed2-cfcb-401c-f896-fac763007147"
      },
      "execution_count": 76,
      "outputs": [
        {
          "output_type": "execute_result",
          "data": {
            "text/plain": [
              "'Santa Claus is a fictional character based on the historical figure of Saint Nicholas, a 4th-century Christian bishop known for his generosity and gift-giving. Santa Claus is often depicted as a jolly, plump man with a white beard, wearing a red suit and hat, who delivers presents to children around the world on Christmas Eve. While Santa Claus is not a real person, the story of Santa is a cherished tradition for many families during the holiday season.'"
            ],
            "application/vnd.google.colaboratory.intrinsic+json": {
              "type": "string"
            }
          },
          "metadata": {},
          "execution_count": 76
        }
      ]
    },
    {
      "cell_type": "markdown",
      "source": [
        "# Lets make it think!"
      ],
      "metadata": {
        "id": "O2pZznxrcr2B"
      }
    },
    {
      "cell_type": "code",
      "source": [
        "### ADD, Subtract or Multiply?\n",
        "\n",
        "def add(a, b):\n",
        "     return a + b\n",
        "\n",
        "def subtract(a, b):\n",
        "    return a - b\n",
        "\n",
        "def multiply(a, b):\n",
        "    return a * b"
      ],
      "metadata": {
        "id": "7lyumMqPcwoI"
      },
      "execution_count": 77,
      "outputs": []
    },
    {
      "cell_type": "code",
      "source": [
        "instruction = 'Determine the appropriate category (\"add\", \"subtract\", \"multiply\") based on user input. Extract two numbers. Format the answer as: {\"category\":\"add\",\"inputs\":\"2,2\"}. Provide JSON only.'"
      ],
      "metadata": {
        "id": "uimRw8PPdpUH"
      },
      "execution_count": 78,
      "outputs": []
    },
    {
      "cell_type": "code",
      "source": [
        "question = input(\"What's your question?: \")"
      ],
      "metadata": {
        "colab": {
          "base_uri": "https://localhost:8080/"
        },
        "id": "Bafj5oYSeOjs",
        "outputId": "cd9fa30f-ad8e-484e-c531-79f2b8c413d2"
      },
      "execution_count": 87,
      "outputs": [
        {
          "name": "stdout",
          "output_type": "stream",
          "text": [
            "What's your question?: 2+3 ?and is santa real?\n"
          ]
        }
      ]
    },
    {
      "cell_type": "code",
      "source": [
        "##Thinking...\n",
        "\n",
        "print('Thinking...')\n",
        "\n",
        "observation = gpt4(instruction,question)\n",
        "\n",
        "print(observation)\n"
      ],
      "metadata": {
        "colab": {
          "base_uri": "https://localhost:8080/"
        },
        "id": "Xi9Ckq5-eV-r",
        "outputId": "304c9e98-b732-4995-ab78-29eafd87c097"
      },
      "execution_count": 88,
      "outputs": [
        {
          "output_type": "stream",
          "name": "stdout",
          "text": [
            "Thinking...\n",
            "{\"category\":\"add\",\"inputs\":\"2,3\"}\n"
          ]
        }
      ]
    },
    {
      "cell_type": "code",
      "source": [
        "observation_lang = gpt4(\"summarise the following json in human words. It is your observation of a task that you will need to complete.\",observation)\n",
        "print(\"Observation:\",observation_lang)"
      ],
      "metadata": {
        "colab": {
          "base_uri": "https://localhost:8080/"
        },
        "id": "ZtMRUH4QgDKO",
        "outputId": "5d92ae66-a61f-46b9-8c44-2285a44c0227"
      },
      "execution_count": 89,
      "outputs": [
        {
          "output_type": "stream",
          "name": "stdout",
          "text": [
            "Observation: The task is to add two numbers, 2 and 3, in the category of addition.\n"
          ]
        }
      ]
    },
    {
      "cell_type": "code",
      "source": [
        "import json \n",
        "def run_operation(operation):\n",
        "    operation = json.loads(operation)\n",
        "    category = operation['category']\n",
        "    inputs = operation['inputs'].split(',')\n",
        "    a = int(inputs[0])\n",
        "    b = int(inputs[1])\n",
        "    print('trying to find a matching operation')\n",
        "    if category == 'add':\n",
        "        result = add(a, b)\n",
        "        print('found a matching operation: add')\n",
        "    elif category == 'subtract':\n",
        "        result = subtract(a, b)\n",
        "        print('found a matching operation: subtract')\n",
        "    elif category == 'multiply':\n",
        "        result = multiply(a, b)\n",
        "        print('found a matching operation: multiply')\n",
        "    else:\n",
        "        result = \"Invalid operation\"\n",
        "    return result"
      ],
      "metadata": {
        "id": "7hwEbITEeY7L"
      },
      "execution_count": 106,
      "outputs": []
    },
    {
      "cell_type": "code",
      "source": [
        "answer = run_operation(observation)\n",
        "print(\"Answer:\", answer)"
      ],
      "metadata": {
        "colab": {
          "base_uri": "https://localhost:8080/"
        },
        "id": "rSj54BcNghT2",
        "outputId": "415d0b22-ade9-420a-f9ae-6dfdcdfc0deb"
      },
      "execution_count": 91,
      "outputs": [
        {
          "output_type": "stream",
          "name": "stdout",
          "text": [
            "trying to find a matching operation\n",
            "found a matching operation: add\n",
            "Answer: 5\n"
          ]
        }
      ]
    },
    {
      "cell_type": "code",
      "source": [
        "gpt4(f\"You have found the answer to a customers question. Phrase it in a nice sentance.Question {question} Answer:{answer}\",'Whats the answer?')"
      ],
      "metadata": {
        "colab": {
          "base_uri": "https://localhost:8080/",
          "height": 35
        },
        "id": "gp_mhDO8g4dQ",
        "outputId": "142238ed-db2a-41f9-e368-18406a4af140"
      },
      "execution_count": 92,
      "outputs": [
        {
          "output_type": "execute_result",
          "data": {
            "text/plain": [
              "'The answer to your question is that 2+3 equals 5, and as for Santa, he is a beloved fictional character who brings joy and happiness to many during the holiday season.'"
            ],
            "application/vnd.google.colaboratory.intrinsic+json": {
              "type": "string"
            }
          },
          "metadata": {},
          "execution_count": 92
        }
      ]
    },
    {
      "cell_type": "code",
      "source": [
        "gpt4(f\"You have to make sure the all questions are already answered. Questions: {question} Answer:{answer}. Say either Yes or No and which question is not yet answered?\",'Are all questions answered? ')"
      ],
      "metadata": {
        "colab": {
          "base_uri": "https://localhost:8080/",
          "height": 35
        },
        "id": "A-9ZD-1-h9gd",
        "outputId": "65a1363e-1b71-4df5-d669-c7e9d6186a00"
      },
      "execution_count": 95,
      "outputs": [
        {
          "output_type": "execute_result",
          "data": {
            "text/plain": [
              "'Yes, all questions are answered. 2+3 = 5, and regarding Santa, the answer is subjective and can be either Yes or No depending on personal beliefs.'"
            ],
            "application/vnd.google.colaboratory.intrinsic+json": {
              "type": "string"
            }
          },
          "metadata": {},
          "execution_count": 95
        }
      ]
    }
  ]
}
